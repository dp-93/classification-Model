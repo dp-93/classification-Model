{
  "nbformat": 4,
  "nbformat_minor": 0,
  "metadata": {
    "colab": {
      "provenance": [],
      "authorship_tag": "ABX9TyOI9alV/8aq3V7Q43Jf+xN7",
      "include_colab_link": true
    },
    "kernelspec": {
      "name": "python3",
      "display_name": "Python 3"
    },
    "language_info": {
      "name": "python"
    }
  },
  "cells": [
    {
      "cell_type": "markdown",
      "metadata": {
        "id": "view-in-github",
        "colab_type": "text"
      },
      "source": [
        "<a href=\"https://colab.research.google.com/github/dp-93/classification-Model/blob/main/Titanic_Survival_prediction.ipynb\" target=\"_parent\"><img src=\"https://colab.research.google.com/assets/colab-badge.svg\" alt=\"Open In Colab\"/></a>"
      ]
    },
    {
      "cell_type": "code",
      "execution_count": 1,
      "metadata": {
        "colab": {
          "base_uri": "https://localhost:8080/"
        },
        "id": "NT9D_36v7drX",
        "outputId": "57963b8e-1969-4a43-a334-f42b75fa0579"
      },
      "outputs": [
        {
          "output_type": "stream",
          "name": "stdout",
          "text": [
            "--- Dataset Info ---\n",
            "<class 'pandas.core.frame.DataFrame'>\n",
            "RangeIndex: 891 entries, 0 to 890\n",
            "Data columns (total 15 columns):\n",
            " #   Column       Non-Null Count  Dtype   \n",
            "---  ------       --------------  -----   \n",
            " 0   survived     891 non-null    int64   \n",
            " 1   pclass       891 non-null    int64   \n",
            " 2   sex          891 non-null    object  \n",
            " 3   age          714 non-null    float64 \n",
            " 4   sibsp        891 non-null    int64   \n",
            " 5   parch        891 non-null    int64   \n",
            " 6   fare         891 non-null    float64 \n",
            " 7   embarked     889 non-null    object  \n",
            " 8   class        891 non-null    category\n",
            " 9   who          891 non-null    object  \n",
            " 10  adult_male   891 non-null    bool    \n",
            " 11  deck         203 non-null    category\n",
            " 12  embark_town  889 non-null    object  \n",
            " 13  alive        891 non-null    object  \n",
            " 14  alone        891 non-null    bool    \n",
            "dtypes: bool(2), category(2), float64(2), int64(4), object(5)\n",
            "memory usage: 80.7+ KB\n",
            "\n",
            "--- First 5 Rows ---\n",
            "   survived  pclass     sex   age  sibsp  parch     fare embarked  class  \\\n",
            "0         0       3    male  22.0      1      0   7.2500        S  Third   \n",
            "1         1       1  female  38.0      1      0  71.2833        C  First   \n",
            "2         1       3  female  26.0      0      0   7.9250        S  Third   \n",
            "3         1       1  female  35.0      1      0  53.1000        S  First   \n",
            "4         0       3    male  35.0      0      0   8.0500        S  Third   \n",
            "\n",
            "     who  adult_male deck  embark_town alive  alone  \n",
            "0    man        True  NaN  Southampton    no  False  \n",
            "1  woman       False    C    Cherbourg   yes  False  \n",
            "2  woman       False  NaN  Southampton   yes   True  \n",
            "3  woman       False    C  Southampton   yes  False  \n",
            "4    man        True  NaN  Southampton    no   True  \n"
          ]
        }
      ],
      "source": [
        "import pandas as pd\n",
        "import seaborn as sns\n",
        "\n",
        "# Load the Titanic dataset from seaborn\n",
        "df = sns.load_dataset('titanic')\n",
        "\n",
        "# Get a summary of the dataset (columns, data types, non-null counts)\n",
        "print(\"--- Dataset Info ---\")\n",
        "df.info()\n",
        "\n",
        "# Display the first 5 rows of the dataset\n",
        "print(\"\\n--- First 5 Rows ---\")\n",
        "print(df.head())"
      ]
    },
    {
      "cell_type": "code",
      "source": [
        "import matplotlib.pyplot as plt\n",
        "import seaborn as sns\n",
        "\n",
        "# Set up the figure size\n",
        "plt.figure(figsize=(14, 5))\n",
        "\n",
        "# --- Plot 1: Survival Count ---\n",
        "plt.subplot(1, 3, 1) # (1 row, 3 columns, 1st plot)\n",
        "sns.countplot(x='survived', data=df)\n",
        "plt.title('Survival Count (0 = No, 1 = Yes)')\n",
        "\n",
        "# --- Plot 2: Survival by Sex ---\n",
        "plt.subplot(1, 3, 2)\n",
        "sns.countplot(x='survived', hue='sex', data=df)\n",
        "plt.title('Survival by Sex')\n",
        "\n",
        "# --- Plot 3: Survival by Passenger Class ---\n",
        "plt.subplot(1, 3, 3)\n",
        "sns.countplot(x='survived', hue='pclass', data=df)\n",
        "plt.title('Survival by Passenger Class')\n",
        "\n",
        "# Display the plots\n",
        "plt.tight_layout() # Adjusts plots to prevent overlap\n",
        "plt.show()"
      ],
      "metadata": {
        "colab": {
          "base_uri": "https://localhost:8080/",
          "height": 507
        },
        "id": "oXZ6Wv7N8zTN",
        "outputId": "fc1d8a76-7686-4b36-8cc5-19ce55a0bc6d"
      },
      "execution_count": 2,
      "outputs": [
        {
          "output_type": "display_data",
          "data": {
            "text/plain": [
              "<Figure size 1400x500 with 3 Axes>"
            ],
            "image/png": "[encoded data removed]"
          },
          "metadata": {}
        }
      ]
    },
    {
      "cell_type": "code",
      "source": [
        "# Calculate the median age\n",
        "median_age = df['age'].median()\n",
        "print(f\"The median age is: {median_age}\")\n",
        "\n",
        "# Fill missing 'age' values with the median age\n",
        "# 'inplace=True' modifies the DataFrame directly\n",
        "df['age'].fillna(median_age, inplace=True)\n",
        "\n",
        "# Verify that the missing values are filled\n",
        "print(\"\\n--- Dataset Info After Cleaning 'age' ---\")\n",
        "df.info()"
      ],
      "metadata": {
        "colab": {
          "base_uri": "https://localhost:8080/"
        },
        "id": "_nPuzXuE-tmW",
        "outputId": "59d8a90a-ea5e-4eed-f2cc-0a14e3683a7a"
      },
      "execution_count": 3,
      "outputs": [
        {
          "output_type": "stream",
          "name": "stdout",
          "text": [
            "The median age is: 28.0\n",
            "\n",
            "--- Dataset Info After Cleaning 'age' ---\n",
            "<class 'pandas.core.frame.DataFrame'>\n",
            "RangeIndex: 891 entries, 0 to 890\n",
            "Data columns (total 15 columns):\n",
            " #   Column       Non-Null Count  Dtype   \n",
            "---  ------       --------------  -----   \n",
            " 0   survived     891 non-null    int64   \n",
            " 1   pclass       891 non-null    int64   \n",
            " 2   sex          891 non-null    object  \n",
            " 3   age          891 non-null    float64 \n",
            " 4   sibsp        891 non-null    int64   \n",
            " 5   parch        891 non-null    int64   \n",
            " 6   fare         891 non-null    float64 \n",
            " 7   embarked     889 non-null    object  \n",
            " 8   class        891 non-null    category\n",
            " 9   who          891 non-null    object  \n",
            " 10  adult_male   891 non-null    bool    \n",
            " 11  deck         203 non-null    category\n",
            " 12  embark_town  889 non-null    object  \n",
            " 13  alive        891 non-null    object  \n",
            " 14  alone        891 non-null    bool    \n",
            "dtypes: bool(2), category(2), float64(2), int64(4), object(5)\n",
            "memory usage: 80.7+ KB\n"
          ]
        },
        {
          "output_type": "stream",
          "name": "stderr",
          "text": [
            "/tmp/ipython-input-4196616765.py:7: FutureWarning: A value is trying to be set on a copy of a DataFrame or Series through chained assignment using an inplace method.\n",
            "The behavior will change in pandas 3.0. This inplace method will never work because the intermediate object on which we are setting values always behaves as a copy.\n",
            "\n",
            "For example, when doing 'df[col].method(value, inplace=True)', try using 'df.method({col: value}, inplace=True)' or df[col] = df[col].method(value) instead, to perform the operation inplace on the original object.\n",
            "\n",
            "\n",
            "  df['age'].fillna(median_age, inplace=True)\n"
          ]
        }
      ]
    },
    {
      "cell_type": "code",
      "source": [
        "# Convert the 'sex' column to numerical values\n",
        "df['sex'] = df['sex'].map({'female': 1, 'male': 0})\n",
        "\n",
        "# Drop columns that we don't need for our model\n",
        "columns_to_drop = ['class', 'who', 'adult_male', 'deck', 'embark_town', 'alive', 'alone']\n",
        "df.drop(columns_to_drop, axis=1, inplace=True)\n",
        "\n",
        "# We also need to convert 'embarked' to numbers, but it has missing values.\n",
        "# For simplicity, we'll drop the rows with missing 'embarked' values.\n",
        "df.dropna(inplace=True)\n",
        "\n",
        "# Verify the changes by checking the first 5 rows and the info\n",
        "print(\"--- First 5 Rows After Conversion ---\")\n",
        "print(df.head())\n",
        "\n",
        "print(\"\\n--- Final Dataset Info ---\")\n",
        "df.info()"
      ],
      "metadata": {
        "colab": {
          "base_uri": "https://localhost:8080/"
        },
        "id": "Lm1r7a3p_Ox3",
        "outputId": "2852bb1a-35a1-472a-ecc0-f891b61d103f"
      },
      "execution_count": 4,
      "outputs": [
        {
          "output_type": "stream",
          "name": "stdout",
          "text": [
            "--- First 5 Rows After Conversion ---\n",
            "   survived  pclass  sex   age  sibsp  parch     fare embarked\n",
            "0         0       3    0  22.0      1      0   7.2500        S\n",
            "1         1       1    1  38.0      1      0  71.2833        C\n",
            "2         1       3    1  26.0      0      0   7.9250        S\n",
            "3         1       1    1  35.0      1      0  53.1000        S\n",
            "4         0       3    0  35.0      0      0   8.0500        S\n",
            "\n",
            "--- Final Dataset Info ---\n",
            "<class 'pandas.core.frame.DataFrame'>\n",
            "Index: 889 entries, 0 to 890\n",
            "Data columns (total 8 columns):\n",
            " #   Column    Non-Null Count  Dtype  \n",
            "---  ------    --------------  -----  \n",
            " 0   survived  889 non-null    int64  \n",
            " 1   pclass    889 non-null    int64  \n",
            " 2   sex       889 non-null    int64  \n",
            " 3   age       889 non-null    float64\n",
            " 4   sibsp     889 non-null    int64  \n",
            " 5   parch     889 non-null    int64  \n",
            " 6   fare      889 non-null    float64\n",
            " 7   embarked  889 non-null    object \n",
            "dtypes: float64(2), int64(5), object(1)\n",
            "memory usage: 62.5+ KB\n"
          ]
        }
      ]
    },
    {
      "cell_type": "code",
      "source": [
        "from sklearn.model_selection import train_test_split\n",
        "\n",
        "# --- NEW STEP: Convert 'embarked' using one-hot encoding ---\n",
        "# This creates new columns: embarked_Q, embarked_S (embarked_C is dropped to avoid redundancy)\n",
        "df = pd.get_dummies(df, columns=['embarked'], drop_first=True)\n",
        "\n",
        "\n",
        "# Define our features (X) and target (y)\n",
        "X = df.drop('survived', axis=1) # X is all columns except 'survived'\n",
        "y = df['survived']               # y is only the 'survived' column\n",
        "\n",
        "# Split the data into training and testing sets\n",
        "X_train, X_test, y_train, y_test = train_test_split(X, y, test_size=0.2, random_state=42)\n",
        "\n",
        "# Print the shapes of the new datasets to verify\n",
        "print(\"--- Data is now fully numerical and split! ---\")\n",
        "print(\"Shape of X_train:\", X_train.shape)\n",
        "print(\"Shape of X_test:\", X_test.shape)"
      ],
      "metadata": {
        "colab": {
          "base_uri": "https://localhost:8080/"
        },
        "id": "paqt0e0q_sS0",
        "outputId": "37936de0-5906-48b4-a347-b4be1d59551e"
      },
      "execution_count": 8,
      "outputs": [
        {
          "output_type": "stream",
          "name": "stdout",
          "text": [
            "--- Data is now fully numerical and split! ---\n",
            "Shape of X_train: (711, 8)\n",
            "Shape of X_test: (178, 8)\n"
          ]
        }
      ]
    },
    {
      "cell_type": "code",
      "source": [
        "from sklearn.linear_model import LogisticRegression\n",
        "from sklearn.metrics import accuracy_score\n",
        "\n",
        "# 1. Create the Logistic Regression model\n",
        "# We add max_iter=200 to help the model converge and avoid a warning\n",
        "model = LogisticRegression(max_iter=200)\n",
        "\n",
        "# 2. Train the model on the training data\n",
        "model.fit(X_train, y_train)\n",
        "\n",
        "# 3. Make predictions on the test data\n",
        "y_pred = model.predict(X_test)\n",
        "\n",
        "# 4. Calculate the accuracy of the model\n",
        "accuracy = accuracy_score(y_test, y_pred)\n",
        "\n",
        "print(f\"Accuracy of the model on the test set: {accuracy * 100:.2f}%\")"
      ],
      "metadata": {
        "colab": {
          "base_uri": "https://localhost:8080/"
        },
        "id": "BaPrOsFxAIZY",
        "outputId": "df2036da-ee49-43ac-a747-4022222f367d"
      },
      "execution_count": 9,
      "outputs": [
        {
          "output_type": "stream",
          "name": "stdout",
          "text": [
            "Accuracy of the model on the test set: 78.09%\n"
          ]
        }
      ]
    }
  ]
}